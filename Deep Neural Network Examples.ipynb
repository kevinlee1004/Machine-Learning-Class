{
 "cells": [
  {
   "cell_type": "code",
   "execution_count": 8,
   "metadata": {},
   "outputs": [],
   "source": [
    "### Import TensorFlow\n",
    "import tensorflow as tf\n",
    "import numpy as np\n",
    "\n",
    "n_inputs = 28*28  # MNIST\n",
    "n_hidden1 = 300\n",
    "n_hidden2 = 100\n",
    "n_outputs = 10"
   ]
  },
  {
   "cell_type": "code",
   "execution_count": 10,
   "metadata": {
    "scrolled": true
   },
   "outputs": [],
   "source": [
    "### Prepare Tensorflow placeholder\n",
    "X = tf.placeholder(tf.float32, shape=(None, n_inputs), name=\"X\")\n",
    "y = tf.placeholder(tf.int64, shape=(None), name=\"y\") "
   ]
  },
  {
   "cell_type": "code",
   "execution_count": 11,
   "metadata": {},
   "outputs": [],
   "source": [
    "### Build DLL architectture - hidden & output layers\n",
    "hidden1 = tf.layers.dense(X, n_hidden1, name=\"hidden1\", activation=tf.nn.relu)\n",
    "hidden2 = tf.layers.dense(hidden1, n_hidden2, name=\"hidden2\", activation=tf.nn.relu)\n",
    "logits = tf.layers.dense(hidden2, n_outputs, name=\"outputs\")"
   ]
  },
  {
   "cell_type": "code",
   "execution_count": 12,
   "metadata": {},
   "outputs": [],
   "source": [
    "### Set up loss function\n",
    "xentropy = tf.nn.sparse_softmax_cross_entropy_with_logits(labels=y, logits=logits)\n",
    "loss = tf.reduce_mean(xentropy, name=\"loss\")\n",
    "loss_summary = tf.summary.scalar('log_loss', loss)"
   ]
  },
  {
   "cell_type": "code",
   "execution_count": 13,
   "metadata": {},
   "outputs": [],
   "source": [
    "### Set up gradient descent and learning rate\n",
    "\n",
    "learning_rate = 0.01\n",
    "\n",
    "optimizer = tf.train.GradientDescentOptimizer(learning_rate)\n",
    "training_op = optimizer.minimize(loss)"
   ]
  },
  {
   "cell_type": "code",
   "execution_count": 14,
   "metadata": {},
   "outputs": [],
   "source": [
    "### Set up Evaludation function\n",
    "correct = tf.nn.in_top_k(logits, y, 1)\n",
    "accuracy = tf.reduce_mean(tf.cast(correct, tf.float32))\n",
    "accuracy_summary = tf.summary.scalar('accuracy', accuracy)"
   ]
  },
  {
   "cell_type": "code",
   "execution_count": 15,
   "metadata": {},
   "outputs": [],
   "source": [
    "### Initialize all the variables\n",
    "init = tf.global_variables_initializer()\n",
    "saver = tf.train.Saver()"
   ]
  },
  {
   "cell_type": "code",
   "execution_count": 16,
   "metadata": {},
   "outputs": [
    {
     "name": "stdout",
     "output_type": "stream",
     "text": [
      "Extracting /tmp/data/train-images-idx3-ubyte.gz\n",
      "Extracting /tmp/data/train-labels-idx1-ubyte.gz\n",
      "Extracting /tmp/data/t10k-images-idx3-ubyte.gz\n",
      "Extracting /tmp/data/t10k-labels-idx1-ubyte.gz\n"
     ]
    }
   ],
   "source": [
    "### Import data\n",
    "from tensorflow.examples.tutorials.mnist import input_data\n",
    "mnist = input_data.read_data_sets(\"/tmp/data/\")"
   ]
  },
  {
   "cell_type": "code",
   "execution_count": 50,
   "metadata": {},
   "outputs": [
    {
     "name": "stdout",
     "output_type": "stream",
     "text": [
      "Shape of input Train data :  (55000, 784)\n",
      "Shape of input Test data :  (10000, 784)\n",
      "Sample Label data :  9\n",
      "Sample Image data :  [0.         0.         0.         0.         0.         0.\n",
      " 0.         0.         0.         0.         0.         0.\n",
      " 0.         0.         0.         0.         0.         0.\n",
      " 0.         0.         0.         0.         0.         0.\n",
      " 0.         0.         0.         0.         0.         0.\n",
      " 0.         0.         0.         0.         0.         0.\n",
      " 0.         0.         0.         0.         0.         0.\n",
      " 0.         0.         0.         0.         0.         0.\n",
      " 0.         0.         0.         0.         0.         0.\n",
      " 0.         0.         0.         0.         0.         0.\n",
      " 0.         0.         0.         0.         0.         0.\n",
      " 0.         0.         0.         0.         0.         0.\n",
      " 0.         0.         0.         0.         0.         0.\n",
      " 0.         0.         0.         0.         0.         0.\n",
      " 0.         0.         0.         0.         0.         0.\n",
      " 0.         0.         0.         0.         0.         0.\n",
      " 0.         0.         0.         0.         0.         0.\n",
      " 0.         0.         0.         0.         0.         0.\n",
      " 0.         0.         0.         0.         0.         0.\n",
      " 0.         0.         0.         0.         0.         0.\n",
      " 0.         0.         0.         0.         0.         0.\n",
      " 0.         0.         0.         0.         0.         0.\n",
      " 0.         0.         0.         0.         0.         0.\n",
      " 0.         0.         0.         0.         0.         0.\n",
      " 0.         0.         0.         0.         0.         0.\n",
      " 0.         0.         0.         0.         0.         0.\n",
      " 0.         0.         0.         0.         0.         0.\n",
      " 0.         0.         0.         0.         0.         0.\n",
      " 0.         0.         0.         0.         0.         0.\n",
      " 0.         0.         0.         0.         0.         0.\n",
      " 0.         0.         0.         0.         0.         0.\n",
      " 0.         0.         0.         0.         0.         0.\n",
      " 0.         0.         0.         0.         0.         0.\n",
      " 0.         0.         0.         0.         0.         0.\n",
      " 0.         0.         0.         0.05490196 0.3137255  0.8078432\n",
      " 0.9960785  0.54901963 0.04313726 0.         0.         0.\n",
      " 0.         0.         0.         0.         0.         0.\n",
      " 0.         0.         0.         0.         0.         0.\n",
      " 0.         0.         0.         0.         0.         0.08627451\n",
      " 0.34509805 0.92549026 0.9921569  0.9921569  0.9921569  0.9960785\n",
      " 0.83921576 0.11764707 0.         0.         0.         0.\n",
      " 0.         0.         0.         0.         0.         0.\n",
      " 0.         0.         0.         0.         0.         0.\n",
      " 0.         0.         0.15686275 0.8745099  0.9921569  0.9960785\n",
      " 0.7686275  0.45882356 0.27058825 0.7568628  0.9921569  0.61960787\n",
      " 0.         0.         0.         0.         0.         0.\n",
      " 0.         0.         0.         0.         0.         0.\n",
      " 0.         0.         0.         0.         0.         0.2392157\n",
      " 0.882353   0.9921569  0.70980394 0.16862746 0.01960784 0.\n",
      " 0.         0.10196079 0.9921569  0.90196085 0.33333334 0.\n",
      " 0.         0.         0.         0.         0.         0.\n",
      " 0.         0.         0.         0.         0.         0.\n",
      " 0.         0.         0.12156864 0.90196085 0.91372555 0.18823531\n",
      " 0.         0.         0.         0.         0.         0.03137255\n",
      " 0.6666667  0.9960785  0.9960785  0.30980393 0.         0.\n",
      " 0.         0.         0.         0.         0.         0.\n",
      " 0.         0.         0.         0.         0.         0.\n",
      " 0.30980393 0.9960785  0.53333336 0.         0.         0.\n",
      " 0.         0.         0.         0.17254902 0.9921569  0.9921569\n",
      " 0.9450981  0.07058824 0.         0.         0.         0.\n",
      " 0.         0.         0.         0.         0.         0.\n",
      " 0.         0.         0.         0.         0.30980393 0.9960785\n",
      " 0.43921572 0.         0.         0.         0.         0.\n",
      " 0.49803925 0.9490197  0.9921569  0.9921569  0.6862745  0.\n",
      " 0.         0.         0.         0.         0.         0.\n",
      " 0.         0.         0.         0.         0.         0.\n",
      " 0.         0.         0.11764707 0.9960785  0.7686275  0.14117648\n",
      " 0.         0.02745098 0.35686275 0.77647066 0.98823535 0.9725491\n",
      " 0.73333335 0.9921569  0.5921569  0.         0.         0.\n",
      " 0.         0.         0.         0.         0.         0.\n",
      " 0.         0.         0.         0.         0.         0.\n",
      " 0.         0.45098042 0.95294124 0.9960785  0.9960785  1.\n",
      " 0.9960785  0.8588236  0.33333334 0.         0.46274513 0.9960785\n",
      " 0.36078432 0.         0.         0.         0.         0.\n",
      " 0.         0.         0.         0.         0.         0.\n",
      " 0.         0.         0.         0.         0.         0.\n",
      " 0.2509804  0.6039216  0.83921576 0.72156864 0.29803923 0.03529412\n",
      " 0.         0.         0.46274513 0.9921569  0.07450981 0.\n",
      " 0.         0.         0.         0.         0.         0.\n",
      " 0.         0.         0.         0.         0.         0.\n",
      " 0.         0.         0.         0.         0.         0.\n",
      " 0.         0.         0.         0.         0.         0.04313726\n",
      " 0.83921576 0.93725497 0.05882353 0.         0.         0.\n",
      " 0.         0.         0.         0.         0.         0.\n",
      " 0.         0.         0.         0.         0.         0.\n",
      " 0.         0.         0.         0.         0.         0.\n",
      " 0.         0.         0.         0.07843138 0.9921569  0.7607844\n",
      " 0.         0.         0.         0.         0.         0.\n",
      " 0.         0.         0.         0.         0.         0.\n",
      " 0.         0.         0.         0.         0.         0.\n",
      " 0.         0.         0.         0.         0.         0.\n",
      " 0.         0.07843138 0.9960785  0.76470596 0.         0.\n",
      " 0.         0.         0.         0.         0.         0.\n",
      " 0.         0.         0.         0.         0.         0.\n",
      " 0.         0.         0.         0.         0.         0.\n",
      " 0.         0.         0.         0.         0.         0.07843138\n",
      " 0.9921569  0.7137255  0.         0.         0.         0.\n",
      " 0.         0.         0.         0.         0.         0.\n",
      " 0.         0.         0.         0.         0.         0.\n",
      " 0.         0.         0.         0.         0.         0.\n",
      " 0.         0.         0.         0.3372549  0.9921569  0.45882356\n",
      " 0.         0.         0.         0.         0.         0.\n",
      " 0.         0.         0.         0.         0.         0.\n",
      " 0.         0.         0.         0.         0.         0.\n",
      " 0.         0.         0.         0.         0.         0.\n",
      " 0.         0.2901961  0.9921569  0.45882356 0.         0.\n",
      " 0.         0.         0.         0.         0.         0.\n",
      " 0.         0.         0.         0.         0.         0.\n",
      " 0.         0.         0.         0.         0.         0.\n",
      " 0.         0.         0.         0.         0.         0.6901961\n",
      " 0.9960785  0.5529412  0.         0.         0.         0.\n",
      " 0.         0.         0.         0.         0.         0.\n",
      " 0.         0.         0.         0.         0.         0.\n",
      " 0.         0.         0.         0.         0.         0.\n",
      " 0.         0.         0.         0.92549026 0.9921569  0.45882356\n",
      " 0.         0.         0.         0.         0.         0.\n",
      " 0.         0.         0.         0.         0.         0.\n",
      " 0.         0.         0.         0.         0.         0.\n",
      " 0.         0.         0.         0.         0.         0.\n",
      " 0.         0.9960785  0.9921569  0.45882356 0.         0.\n",
      " 0.         0.         0.         0.         0.         0.\n",
      " 0.         0.         0.         0.         0.         0.\n",
      " 0.         0.         0.         0.         0.         0.\n",
      " 0.         0.         0.         0.         0.         0.90196085\n",
      " 0.9450981  0.22352943 0.         0.         0.         0.\n",
      " 0.         0.         0.         0.         0.         0.\n",
      " 0.         0.         0.         0.         0.         0.\n",
      " 0.         0.         0.         0.         0.         0.\n",
      " 0.         0.         0.         0.         0.         0.\n",
      " 0.         0.         0.         0.         0.         0.\n",
      " 0.         0.         0.         0.        ]\n"
     ]
    }
   ],
   "source": [
    "### Data Exporation\n",
    "print(\"Shape of input Train data : \", mnist.train.images.shape)\n",
    "print(\"Shape of input Test data : \", mnist.test.images.shape)\n",
    "print(\"Sample Label data : \", mnist.train.labels[1])\n",
    "print(\"Sample Image data : \", mnist.train.images[1])"
   ]
  },
  {
   "cell_type": "code",
   "execution_count": 42,
   "metadata": {},
   "outputs": [
    {
     "name": "stdout",
     "output_type": "stream",
     "text": [
      "Y value is : [6]\n"
     ]
    },
    {
     "data": {
      "text/plain": [
       "<matplotlib.image.AxesImage at 0x12856f28>"
      ]
     },
     "execution_count": 42,
     "metadata": {},
     "output_type": "execute_result"
    },
    {
     "data": {
      "image/png": "[encoded data removed]",
      "text/plain": [
       "<matplotlib.figure.Figure at 0x127d4278>"
      ]
     },
     "metadata": {},
     "output_type": "display_data"
    }
   ],
   "source": [
    "### Data Visualization\n",
    "X_1=mnist.train.next_batch(1)\n",
    "digit_image2 = X_1[0].reshape(28, 28)\n",
    "\n",
    "### Show that image\n",
    "print(\"Y value is :\", X_1[1])\n",
    "plt.imshow(digit_image2, cmap = matplotlib.cm.binary,\n",
    "           interpolation=\"nearest\")"
   ]
  },
  {
   "cell_type": "code",
   "execution_count": 42,
   "metadata": {},
   "outputs": [
    {
     "name": "stdout",
     "output_type": "stream",
     "text": [
      "Y value is : [6]\n"
     ]
    },
    {
     "data": {
      "text/plain": [
       "<matplotlib.image.AxesImage at 0x12856f28>"
      ]
     },
     "execution_count": 42,
     "metadata": {},
     "output_type": "execute_result"
    },
    {
     "data": {
      "image/png": "[encoded data removed]",
      "text/plain": [
       "<matplotlib.figure.Figure at 0x127d4278>"
      ]
     },
     "metadata": {},
     "output_type": "display_data"
    }
   ],
   "source": [
    "### Data Visualization\n",
    "X_1=mnist.train.next_batch(1)\n",
    "digit_image2 = X_1[0].reshape(28, 28)\n",
    "\n",
    "### Show that image\n",
    "print(\"Y value is :\", X_1[1])\n",
    "plt.imshow(digit_image2, cmap = matplotlib.cm.binary,\n",
    "           interpolation=\"nearest\")"
   ]
  },
  {
   "cell_type": "code",
   "execution_count": 18,
   "metadata": {},
   "outputs": [
    {
     "name": "stdout",
     "output_type": "stream",
     "text": [
      "0 Train accuracy: 0.9 Test accuracy: 0.9014\n",
      "1 Train accuracy: 0.92 Test accuracy: 0.9198\n",
      "2 Train accuracy: 1.0 Test accuracy: 0.931\n",
      "3 Train accuracy: 1.0 Test accuracy: 0.9352\n",
      "4 Train accuracy: 0.88 Test accuracy: 0.941\n",
      "5 Train accuracy: 0.96 Test accuracy: 0.9473\n",
      "6 Train accuracy: 0.98 Test accuracy: 0.9501\n",
      "7 Train accuracy: 0.96 Test accuracy: 0.952\n",
      "8 Train accuracy: 0.98 Test accuracy: 0.9539\n",
      "9 Train accuracy: 0.9 Test accuracy: 0.9572\n",
      "10 Train accuracy: 1.0 Test accuracy: 0.9586\n",
      "11 Train accuracy: 0.96 Test accuracy: 0.9618\n",
      "12 Train accuracy: 1.0 Test accuracy: 0.963\n",
      "13 Train accuracy: 0.98 Test accuracy: 0.9648\n",
      "14 Train accuracy: 0.96 Test accuracy: 0.9659\n",
      "15 Train accuracy: 0.98 Test accuracy: 0.9678\n",
      "16 Train accuracy: 1.0 Test accuracy: 0.9674\n",
      "17 Train accuracy: 1.0 Test accuracy: 0.9688\n",
      "18 Train accuracy: 0.98 Test accuracy: 0.9698\n",
      "19 Train accuracy: 1.0 Test accuracy: 0.9711\n",
      "20 Train accuracy: 1.0 Test accuracy: 0.9704\n",
      "21 Train accuracy: 0.98 Test accuracy: 0.9719\n",
      "22 Train accuracy: 0.98 Test accuracy: 0.9723\n",
      "23 Train accuracy: 1.0 Test accuracy: 0.9725\n",
      "24 Train accuracy: 1.0 Test accuracy: 0.9729\n",
      "25 Train accuracy: 1.0 Test accuracy: 0.9744\n",
      "26 Train accuracy: 0.96 Test accuracy: 0.9738\n",
      "27 Train accuracy: 1.0 Test accuracy: 0.9746\n",
      "28 Train accuracy: 0.98 Test accuracy: 0.9754\n",
      "29 Train accuracy: 1.0 Test accuracy: 0.9751\n",
      "30 Train accuracy: 0.96 Test accuracy: 0.9754\n",
      "31 Train accuracy: 1.0 Test accuracy: 0.9756\n",
      "32 Train accuracy: 0.98 Test accuracy: 0.9756\n",
      "33 Train accuracy: 1.0 Test accuracy: 0.9755\n",
      "34 Train accuracy: 0.98 Test accuracy: 0.9763\n",
      "35 Train accuracy: 1.0 Test accuracy: 0.9752\n",
      "36 Train accuracy: 0.98 Test accuracy: 0.976\n",
      "37 Train accuracy: 0.96 Test accuracy: 0.9761\n",
      "38 Train accuracy: 1.0 Test accuracy: 0.9769\n",
      "39 Train accuracy: 1.0 Test accuracy: 0.9766\n"
     ]
    }
   ],
   "source": [
    "n_epochs = 40\n",
    "batch_size = 50\n",
    "\n",
    "### Train your model\n",
    "with tf.Session() as sess:\n",
    "    init.run()\n",
    "    for epoch in range(n_epochs):\n",
    "        for iteration in range(mnist.train.num_examples // batch_size):\n",
    "            X_batch, y_batch = mnist.train.next_batch(batch_size)\n",
    "            sess.run(training_op, feed_dict={X: X_batch, y: y_batch})\n",
    "        acc_train = accuracy.eval(feed_dict={X: X_batch, y: y_batch})\n",
    "        acc_test = accuracy.eval(feed_dict={X: mnist.test.images,\n",
    "                                            y: mnist.test.labels})\n",
    "        print(epoch, \"Train accuracy:\", acc_train, \"Test accuracy:\", acc_test)\n"
   ]
  },
  {
   "cell_type": "code",
   "execution_count": null,
   "metadata": {},
   "outputs": [],
   "source": []
  }
 ],
 "metadata": {
  "kernelspec": {
   "display_name": "Python 3",
   "language": "python",
   "name": "python3"
  },
  "language_info": {
   "codemirror_mode": {
    "name": "ipython",
    "version": 3
   },
   "file_extension": ".py",
   "mimetype": "text/x-python",
   "name": "python",
   "nbconvert_exporter": "python",
   "pygments_lexer": "ipython3",
   "version": "3.6.4"
  },
  "nav_menu": {
   "height": "264px",
   "width": "369px"
  },
  "toc": {
   "navigate_menu": true,
   "number_sections": true,
   "sideBar": true,
   "threshold": 6,
   "toc_cell": false,
   "toc_section_display": "block",
   "toc_window_display": false
  }
 },
 "nbformat": 4,
 "nbformat_minor": 1
}
